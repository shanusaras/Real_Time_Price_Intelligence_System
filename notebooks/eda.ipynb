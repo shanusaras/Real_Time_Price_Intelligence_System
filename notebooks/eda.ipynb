{
 "cells": [
  {
   "cell_type": "code",
   "execution_count": null,
   "metadata": {},
   "outputs": [
    {
     "data": {
      "text/html": [
       "<div>\n",
       "<style scoped>\n",
       "    .dataframe tbody tr th:only-of-type {\n",
       "        vertical-align: middle;\n",
       "    }\n",
       "\n",
       "    .dataframe tbody tr th {\n",
       "        vertical-align: top;\n",
       "    }\n",
       "\n",
       "    .dataframe thead th {\n",
       "        text-align: right;\n",
       "    }\n",
       "</style>\n",
       "<table border=\"1\" class=\"dataframe\">\n",
       "  <thead>\n",
       "    <tr style=\"text-align: right;\">\n",
       "      <th></th>\n",
       "      <th>name</th>\n",
       "      <th>brand</th>\n",
       "      <th>price</th>\n",
       "      <th>discount_pct</th>\n",
       "      <th>rating</th>\n",
       "      <th>reviews</th>\n",
       "      <th>in_stock</th>\n",
       "      <th>category</th>\n",
       "      <th>link</th>\n",
       "    </tr>\n",
       "  </thead>\n",
       "  <tbody>\n",
       "    <tr>\n",
       "      <th>0</th>\n",
       "      <td>Golden Penny Golden Bite Chinchin - 40g</td>\n",
       "      <td>NaN</td>\n",
       "      <td>2770.0</td>\n",
       "      <td>0</td>\n",
       "      <td>4.5</td>\n",
       "      <td>4</td>\n",
       "      <td>True</td>\n",
       "      <td>snacks</td>\n",
       "      <td>https://www.jumia.com.ng/golden-penny-golden-b...</td>\n",
       "    </tr>\n",
       "    <tr>\n",
       "      <th>1</th>\n",
       "      <td>Simple Style Ceramic Glass Bowl (6pcs)</td>\n",
       "      <td>NaN</td>\n",
       "      <td>8499.0</td>\n",
       "      <td>0</td>\n",
       "      <td>3.7</td>\n",
       "      <td>3</td>\n",
       "      <td>True</td>\n",
       "      <td>snacks</td>\n",
       "      <td>https://www.jumia.com.ng/generic-simple-style-...</td>\n",
       "    </tr>\n",
       "    <tr>\n",
       "      <th>2</th>\n",
       "      <td>Wagg Training Mini Bones With Beef Chicken &amp; L...</td>\n",
       "      <td>NaN</td>\n",
       "      <td>2500.0</td>\n",
       "      <td>0</td>\n",
       "      <td>4.0</td>\n",
       "      <td>2</td>\n",
       "      <td>True</td>\n",
       "      <td>snacks</td>\n",
       "      <td>https://www.jumia.com.ng/wagg-training-mini-bo...</td>\n",
       "    </tr>\n",
       "    <tr>\n",
       "      <th>3</th>\n",
       "      <td>Simple Style Ceramic Glass Bowl Plate(6pcs)</td>\n",
       "      <td>NaN</td>\n",
       "      <td>7500.0</td>\n",
       "      <td>0</td>\n",
       "      <td>3.3</td>\n",
       "      <td>3</td>\n",
       "      <td>True</td>\n",
       "      <td>snacks</td>\n",
       "      <td>https://www.jumia.com.ng/simple-style-ceramic-...</td>\n",
       "    </tr>\n",
       "    <tr>\n",
       "      <th>4</th>\n",
       "      <td>3PCS Diamond Glass Ware Bowl (BXW-203)</td>\n",
       "      <td>NaN</td>\n",
       "      <td>7500.0</td>\n",
       "      <td>0</td>\n",
       "      <td>3.6</td>\n",
       "      <td>5</td>\n",
       "      <td>True</td>\n",
       "      <td>snacks</td>\n",
       "      <td>https://www.jumia.com.ng/generic-3pcs-diamond-...</td>\n",
       "    </tr>\n",
       "  </tbody>\n",
       "</table>\n",
       "</div>"
      ],
      "text/plain": [
       "                                                name  brand   price  \\\n",
       "0            Golden Penny Golden Bite Chinchin - 40g    NaN  2770.0   \n",
       "1             Simple Style Ceramic Glass Bowl (6pcs)    NaN  8499.0   \n",
       "2  Wagg Training Mini Bones With Beef Chicken & L...    NaN  2500.0   \n",
       "3        Simple Style Ceramic Glass Bowl Plate(6pcs)    NaN  7500.0   \n",
       "4             3PCS Diamond Glass Ware Bowl (BXW-203)    NaN  7500.0   \n",
       "\n",
       "   discount_pct  rating  reviews  in_stock category  \\\n",
       "0             0     4.5        4      True   snacks   \n",
       "1             0     3.7        3      True   snacks   \n",
       "2             0     4.0        2      True   snacks   \n",
       "3             0     3.3        3      True   snacks   \n",
       "4             0     3.6        5      True   snacks   \n",
       "\n",
       "                                                link  \n",
       "0  https://www.jumia.com.ng/golden-penny-golden-b...  \n",
       "1  https://www.jumia.com.ng/generic-simple-style-...  \n",
       "2  https://www.jumia.com.ng/wagg-training-mini-bo...  \n",
       "3  https://www.jumia.com.ng/simple-style-ceramic-...  \n",
       "4  https://www.jumia.com.ng/generic-3pcs-diamond-...  "
      ]
     },
     "execution_count": 4,
     "metadata": {},
     "output_type": "execute_result"
    }
   ],
   "source": [
    "import pandas as pd\n",
    "\n",
    "# Load the products data\n",
    "products = pd.read_csv(r'E:\\Real_Time_Price_Intelligence_System\\etl\\output\\jumia_products_clean.csv')\n",
    "\n",
    "# Show the first few rows\n",
    "products.head()"
   ]
  },
  {
   "cell_type": "code",
   "execution_count": 5,
   "metadata": {},
   "outputs": [
    {
     "name": "stdout",
     "output_type": "stream",
     "text": [
      "<class 'pandas.core.frame.DataFrame'>\n",
      "RangeIndex: 18982 entries, 0 to 18981\n",
      "Data columns (total 9 columns):\n",
      " #   Column        Non-Null Count  Dtype  \n",
      "---  ------        --------------  -----  \n",
      " 0   name          18982 non-null  object \n",
      " 1   brand         0 non-null      float64\n",
      " 2   price         17770 non-null  float64\n",
      " 3   discount_pct  18982 non-null  int64  \n",
      " 4   rating        18982 non-null  float64\n",
      " 5   reviews       18982 non-null  int64  \n",
      " 6   in_stock      18982 non-null  bool   \n",
      " 7   category      18982 non-null  object \n",
      " 8   link          18982 non-null  object \n",
      "dtypes: bool(1), float64(3), int64(2), object(3)\n",
      "memory usage: 1.2+ MB\n",
      "None\n"
     ]
    }
   ],
   "source": [
    "\n",
    "# Show info (columns, types, nulls)\n",
    "print(products.info())\n"
   ]
  },
  {
   "cell_type": "code",
   "execution_count": 6,
   "metadata": {},
   "outputs": [
    {
     "name": "stdout",
     "output_type": "stream",
     "text": [
      "       brand         price  discount_pct        rating       reviews\n",
      "count    0.0  1.777000e+04       18982.0  18982.000000  18982.000000\n",
      "mean     NaN  2.988552e+04           0.0      1.722411     35.369192\n",
      "std      NaN  1.048318e+05           0.0      2.040856    470.768338\n",
      "min      NaN  3.000000e+02           0.0      0.000000      0.000000\n",
      "25%      NaN  6.824000e+03           0.0      0.000000      0.000000\n",
      "50%      NaN  1.400000e+04           0.0      0.000000      0.000000\n",
      "75%      NaN  3.275000e+04           0.0      4.000000      6.000000\n",
      "max      NaN  6.500000e+06           0.0      5.000000  42228.000000\n"
     ]
    }
   ],
   "source": [
    "# Show summary statistics\n",
    "print(products.describe())"
   ]
  },
  {
   "cell_type": "code",
   "execution_count": null,
   "metadata": {},
   "outputs": [],
   "source": []
  }
 ],
 "metadata": {
  "kernelspec": {
   "display_name": "venv",
   "language": "python",
   "name": "python3"
  },
  "language_info": {
   "codemirror_mode": {
    "name": "ipython",
    "version": 3
   },
   "file_extension": ".py",
   "mimetype": "text/x-python",
   "name": "python",
   "nbconvert_exporter": "python",
   "pygments_lexer": "ipython3",
   "version": "3.11.0"
  }
 },
 "nbformat": 4,
 "nbformat_minor": 2
}
